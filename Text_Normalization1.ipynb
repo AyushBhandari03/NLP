{
  "nbformat": 4,
  "nbformat_minor": 0,
  "metadata": {
    "colab": {
      "provenance": [],
      "authorship_tag": "ABX9TyOEHER+WRWCod7gQkeXJxSK",
      "include_colab_link": true
    },
    "kernelspec": {
      "name": "python3",
      "display_name": "Python 3"
    },
    "language_info": {
      "name": "python"
    }
  },
  "cells": [
    {
      "cell_type": "markdown",
      "metadata": {
        "id": "view-in-github",
        "colab_type": "text"
      },
      "source": [
        "<a href=\"https://colab.research.google.com/github/AyushBhandari03/NLP/blob/main/Text_Normalization1.ipynb\" target=\"_parent\"><img src=\"https://colab.research.google.com/assets/colab-badge.svg\" alt=\"Open In Colab\"/></a>"
      ]
    },
    {
      "cell_type": "code",
      "execution_count": 3,
      "metadata": {
        "id": "emwmGuMN_KC7"
      },
      "outputs": [],
      "source": [
        "import spacy;\n",
        "nlp=spacy.load(\"en_core_web_sm\")"
      ]
    },
    {
      "cell_type": "code",
      "source": [
        "doc=nlp(\"Apple is looking at buying U.K. startup for $1 billion\")\n",
        "for i in doc :\n",
        "  print(i)"
      ],
      "metadata": {
        "colab": {
          "base_uri": "https://localhost:8080/"
        },
        "id": "hZweNUagAMZE",
        "outputId": "bdfe6fda-5209-4619-b23b-26c3953d44e9"
      },
      "execution_count": 5,
      "outputs": [
        {
          "output_type": "stream",
          "name": "stdout",
          "text": [
            "Apple\n",
            "is\n",
            "looking\n",
            "at\n",
            "buying\n",
            "U.K.\n",
            "startup\n",
            "for\n",
            "$\n",
            "1\n",
            "billion\n"
          ]
        }
      ]
    },
    {
      "cell_type": "code",
      "source": [
        "print(f\"tOKOEN\\t\\tSTOPWORD\")\n",
        "print(\"-\"*25)\n",
        "for token in doc :\n",
        "  print(f\"{token}\\t\\t{token.is_stop}\")"
      ],
      "metadata": {
        "colab": {
          "base_uri": "https://localhost:8080/"
        },
        "id": "YLZuSw_pAXy8",
        "outputId": "259f9030-2ef7-4ac0-b364-06ce6c68d6fb"
      },
      "execution_count": 14,
      "outputs": [
        {
          "output_type": "stream",
          "name": "stdout",
          "text": [
            "tOKOEN\t\tSTOPWORD\n",
            "-------------------------\n",
            "Apple\t\tFalse\n",
            "is\t\tTrue\n",
            "looking\t\tFalse\n",
            "at\t\tTrue\n",
            "buying\t\tFalse\n",
            "U.K.\t\tFalse\n",
            "startup\t\tFalse\n",
            "for\t\tTrue\n",
            "$\t\tFalse\n",
            "1\t\tFalse\n",
            "billion\t\tFalse\n"
          ]
        }
      ]
    },
    {
      "cell_type": "code",
      "source": [],
      "metadata": {
        "id": "URzT7wB4AvcC"
      },
      "execution_count": null,
      "outputs": []
    }
  ]
}